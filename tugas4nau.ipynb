{
 "cells": [
  {
   "cell_type": "markdown",
   "id": "c9215a6b-2716-4c72-ab88-b9f57d553578",
   "metadata": {},
   "source": [
    "<h1>Operator Aritmatika</h1>"
   ]
  },
  {
   "cell_type": "code",
   "execution_count": 2,
   "id": "1d696e89-628b-45d9-a296-2f97bd50bcb7",
   "metadata": {},
   "outputs": [
    {
     "name": "stdout",
     "output_type": "stream",
     "text": [
      "setiap orang akan menerima apel sebanyak: 3.0\n",
      "total apel budi sekarang adalah sebanyak: 20\n"
     ]
    }
   ],
   "source": [
    "jumlahApel = 12\n",
    "jumlahTeman = 4\n",
    "\n",
    "apelPerTeman = jumlahApel / jumlahTeman\n",
    "print(\"setiap orang akan menerima apel sebanyak:\",apelPerTeman)\n",
    "\n",
    "tambahanApel = 8\n",
    "totalApel = jumlahApel + tambahanApel\n",
    "\n",
    "print(\"total apel budi sekarang adalah sebanyak:\",totalApel)"
   ]
  },
  {
   "cell_type": "markdown",
   "id": "044ed56c-6fe3-44c8-99bb-b2698be63123",
   "metadata": {},
   "source": [
    "<h1>Operator Perbandingan</h1>"
   ]
  },
  {
   "cell_type": "code",
   "execution_count": 5,
   "id": "13ca81a7-d377-452f-b041-336a3cf6e279",
   "metadata": {},
   "outputs": [
    {
     "name": "stdout",
     "output_type": "stream",
     "text": [
      "160 = 165 False\n",
      "160 != 165 True\n",
      "160 < 165 True\n",
      "160 > 165 False\n",
      "jadi yang paling tinggi adalah andi sebesar 165 cm\n"
     ]
    }
   ],
   "source": [
    "siti = 160 \n",
    "andi = 165\n",
    "\n",
    "print(siti, \"=\",andi,siti==andi)\n",
    "print(siti, \"!=\",andi,siti!=andi)\n",
    "print(siti, \"<\",andi,siti<andi)\n",
    "print(siti, \">\",andi,siti>andi)\n",
    "\n",
    "print(\"jadi yang paling tinggi adalah andi sebesar\",andi,\"cm\")"
   ]
  },
  {
   "cell_type": "markdown",
   "id": "bc7d85b8-0e8d-46d0-8f3f-78f1ef900efa",
   "metadata": {},
   "source": [
    "<h1>Operator Logika</h1>"
   ]
  },
  {
   "cell_type": "code",
   "execution_count": 8,
   "id": "9c6fa15f-d5b8-45af-b9b9-a1e46c8a9711",
   "metadata": {},
   "outputs": [
    {
     "name": "stdout",
     "output_type": "stream",
     "text": [
      "apakah budi bisa bermain di luar True\n"
     ]
    }
   ],
   "source": [
    "cuacaCerah = True\n",
    "prSelesai = True\n",
    "\n",
    "bisaBermain = cuacaCerah and prSelesai\n",
    "print(\"apakah budi bisa bermain di luar\",bisaBermain)"
   ]
  },
  {
   "cell_type": "markdown",
   "id": "527801e0-9174-445d-b58a-af76d669410e",
   "metadata": {},
   "source": [
    "<h1>Opetrator Bitwise</h1>"
   ]
  },
  {
   "cell_type": "code",
   "execution_count": 11,
   "id": "00899811-1ec4-4e6b-b3ed-75b22008ce21",
   "metadata": {},
   "outputs": [
    {
     "name": "stdout",
     "output_type": "stream",
     "text": [
      "angka biner dari AND adalah: 0b10\n",
      "angka biner dari OR adalah: 0b111\n",
      "angka biner dari XOR adalah: 0b101\n"
     ]
    }
   ],
   "source": [
    "num1 = 6\n",
    "num2 = 3\n",
    "\n",
    "hasilAnd = num1 & num2\n",
    "print(\"angka biner dari AND adalah:\",bin(hasilAnd))\n",
    "\n",
    "\n",
    "hasilOr = num1 | num2\n",
    "print(\"angka biner dari OR adalah:\",bin(hasilOr))\n",
    "\n",
    "hasilXor = num1 ^ num2\n",
    "print(\"angka biner dari XOR adalah:\",bin(hasilXor))"
   ]
  },
  {
   "cell_type": "markdown",
   "id": "f67abc56-06d5-4d7f-84bb-c6b6350d5e59",
   "metadata": {},
   "source": [
    "<h1>Operator Penugasan</h1>"
   ]
  },
  {
   "cell_type": "code",
   "execution_count": 14,
   "id": "1919a815-4869-4547-9210-2edfe9183cce",
   "metadata": {},
   "outputs": [
    {
     "name": "stdout",
     "output_type": "stream",
     "text": [
      "uangAwal 50000\n",
      "setelah di tambah 20000 = 70000\n",
      "dia membeli paket internet sebesar 30000 = 40000\n"
     ]
    }
   ],
   "source": [
    "uangAwal = 50000\n",
    "print(\"uangAwal\",uangAwal)\n",
    "uangAwal += 20000\n",
    "print(\"setelah di tambah 20000 =\",uangAwal)\n",
    "uangAwal -= 30000\n",
    "print(\"dia membeli paket internet sebesar 30000 =\",uangAwal)"
   ]
  },
  {
   "cell_type": "markdown",
   "id": "c68a0951-89d2-4a37-ad9a-ff7a42fbf19a",
   "metadata": {},
   "source": [
    "<h1>Operator Keanggotaan</h1>"
   ]
  },
  {
   "cell_type": "code",
   "execution_count": 17,
   "id": "ace107f1-0587-4b34-98f2-5ede0b314b0f",
   "metadata": {},
   "outputs": [
    {
     "name": "stdout",
     "output_type": "stream",
     "text": [
      "apakah terdaftar? False\n",
      "apakah kata pyhton ada di kalimat True\n"
     ]
    }
   ],
   "source": [
    "name = \"eka\"\n",
    "daftarPesertaLomba = [\"andi\",\"budi\",\"citra\",\"dewi\"]\n",
    "hasil = name in daftarPesertaLomba\n",
    "print(\"apakah terdaftar?\",hasil)\n",
    "\n",
    "kalimat = \"saya suka belajar bahasa pyhton\"\n",
    "kataYangDiCari = \"pyhton\"\n",
    "hasil = kataYangDiCari in kalimat\n",
    "print(\"apakah kata\",kataYangDiCari,\"ada di kalimat\",hasil)"
   ]
  },
  {
   "cell_type": "markdown",
   "id": "010d8310-20df-46ad-a41d-5cb6a2dc74ed",
   "metadata": {},
   "source": [
    "<h1>Operator Identitas</h1>"
   ]
  },
  {
   "cell_type": "code",
   "execution_count": 20,
   "id": "869b95a9-0790-4ac4-8107-51ac9c69150d",
   "metadata": {},
   "outputs": [
    {
     "name": "stdout",
     "output_type": "stream",
     "text": [
      "apakah x dan y mengacu pada objek yang sama? True\n",
      "apakah a dan b mengacu pada objek yang sama? True\n",
      "apakah list1 dan list2 mengacu pada objek yang sama? False\n"
     ]
    }
   ],
   "source": [
    "x = 20\n",
    "y = 20\n",
    "\n",
    "hasil = x is y\n",
    "print(\"apakah x dan y mengacu pada objek yang sama?\",hasil)\n",
    "\n",
    "a = \"sayang\"\n",
    "b = \"sayang\"\n",
    "\n",
    "hasil = a is b\n",
    "print(\"apakah a dan b mengacu pada objek yang sama?\",hasil)\n",
    "\n",
    "list1 = [\"12\",\"13\",\"14\"]\n",
    "list2 = [\"12\",\"13\",\"14\"]\n",
    "\n",
    "hasil = list1 is list2\n",
    "print(\"apakah list1 dan list2 mengacu pada objek yang sama?\",hasil)"
   ]
  },
  {
   "cell_type": "markdown",
   "id": "435839c0-21b8-4825-8193-e7e35c806753",
   "metadata": {},
   "source": [
    "<h1>Operator Ternary</h1>"
   ]
  },
  {
   "cell_type": "code",
   "execution_count": 23,
   "id": "46739f21-e512-4507-9987-009395c89785",
   "metadata": {},
   "outputs": [
    {
     "name": "stdout",
     "output_type": "stream",
     "text": [
      "Lebih besar dari 100\n",
      "Tidak lebih besar dari 100\n"
     ]
    },
    {
     "name": "stdin",
     "output_type": "stream",
     "text": [
      "isi nilai 80\n"
     ]
    },
    {
     "name": "stdout",
     "output_type": "stream",
     "text": [
      "Lulus\n"
     ]
    },
    {
     "name": "stdin",
     "output_type": "stream",
     "text": [
      "isi nilai 40\n"
     ]
    },
    {
     "name": "stdout",
     "output_type": "stream",
     "text": [
      "Tidak Lulus\n"
     ]
    }
   ],
   "source": [
    "angka = 150\n",
    "hasil = (\"Tidak lebih besar dari 100\", \"Lebih besar dari 100\")[angka > 100]\n",
    "print(hasil)\n",
    "\n",
    "angka2 = 50\n",
    "hasil2 = (\"Tidak lebih besar dari 100\", \"Lebih besar dari 100\")[angka2 > 100]\n",
    "print(hasil2)\n",
    "\n",
    "nilai_ujian = int(input(\"isi nilai\"))\n",
    "status = (\"Tidak Lulus\", \"Lulus\")[nilai_ujian > 70]\n",
    "print(status)\n",
    "\n",
    "nilai_ujian2 = int(input(\"isi nilai\"))\n",
    "status2 = (\"Tidak Lulus\", \"Lulus\")[nilai_ujian2 > 70]\n",
    "print(status2)"
   ]
  },
  {
   "cell_type": "code",
   "execution_count": 25,
   "id": "5f8e68e6-f455-473e-8506-aac7ab4da6b6",
   "metadata": {},
   "outputs": [
    {
     "name": "stdout",
     "output_type": "stream",
     "text": [
      "Lebih besar dari 100\n",
      "Tidak lebih besar dari 100\n"
     ]
    },
    {
     "name": "stdin",
     "output_type": "stream",
     "text": [
      "isi nilai 80\n"
     ]
    },
    {
     "name": "stdout",
     "output_type": "stream",
     "text": [
      "Lulus\n"
     ]
    },
    {
     "name": "stdin",
     "output_type": "stream",
     "text": [
      "isi nilai 50\n"
     ]
    },
    {
     "name": "stdout",
     "output_type": "stream",
     "text": [
      "Tidak Lulus\n"
     ]
    }
   ],
   "source": [
    "angka = 150\n",
    "hasil = \"Lebih besar dari 100\" if angka > 100 else \"Tidak lebih besar dari 100\"\n",
    "print(hasil)\n",
    "\n",
    "angka2 = 50\n",
    "hasil2 = \"Lebih besar dari 100\" if angka2 > 100 else \"Tidak lebih besar dari 100\"\n",
    "print(hasil2)\n",
    "\n",
    "nilai_ujian = int(input(\"isi nilai\"))\n",
    "status = \"Lulus\" if nilai_ujian > 70 else \"Tidak Lulus\"\n",
    "print(status)\n",
    "\n",
    "nilai_ujian2 = int(input(\"isi nilai\"))\n",
    "status2 = \"Lulus\" if nilai_ujian2 > 70 else \"Tidak Lulus\"\n",
    "print(status2)"
   ]
  }
 ],
 "metadata": {
  "kernelspec": {
   "display_name": "Python [conda env:base] *",
   "language": "python",
   "name": "conda-base-py"
  },
  "language_info": {
   "codemirror_mode": {
    "name": "ipython",
    "version": 3
   },
   "file_extension": ".py",
   "mimetype": "text/x-python",
   "name": "python",
   "nbconvert_exporter": "python",
   "pygments_lexer": "ipython3",
   "version": "3.12.7"
  }
 },
 "nbformat": 4,
 "nbformat_minor": 5
}
