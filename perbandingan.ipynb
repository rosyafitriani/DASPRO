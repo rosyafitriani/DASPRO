{
 "cells": [
  {
   "cell_type": "code",
   "execution_count": 38,
   "id": "78cb8625-4d02-41ae-8b7e-bedb093c9791",
   "metadata": {},
   "outputs": [
    {
     "name": "stdin",
     "output_type": "stream",
     "text": [
      "Isikan Umur Pengguna:  0\n"
     ]
    },
    {
     "name": "stdout",
     "output_type": "stream",
     "text": [
      "Kategori : Anak-anak\n"
     ]
    }
   ],
   "source": [
    "umur = int(input(\"Isikan Umur Pengguna: \"))\n",
    "if umur > 59:\n",
    "    kategori = \"Lansia\"\n",
    "elif umur > 17:\n",
    "    kategori = \"Dewasa\"\n",
    "elif umur > 12:\n",
    "    kategori = \"Remaja\"\n",
    "elif umur >= 0:\n",
    "    kategori = \"Anak-anak\"\n",
    "else :\n",
    "    kategori = \"Umur tidak valid\"\n",
    "    \n",
    "print(f\"Kategori : {kategori}\")"
   ]
  },
  {
   "cell_type": "code",
   "execution_count": 98,
   "id": "4625dd64-8c39-49a0-a4f8-b5f824abf758",
   "metadata": {},
   "outputs": [
    {
     "name": "stdin",
     "output_type": "stream",
     "text": [
      "Isikan Umur Pengunjung:  20\n",
      "Isikan Umur Pengunjung:  15\n",
      "Isikan Umur Pengunjung:  10\n"
     ]
    },
    {
     "name": "stdout",
     "output_type": "stream",
     "text": [
      "Tiket 1 : Tiket Dewasa | Harga25000\n",
      "Tiket 2 : Tiket Remaja | Harga15000\n",
      "Tiket 3 : Tiket Anak-anak | Harga10000\n",
      "Total yang harus di bayar: 50000\n"
     ]
    }
   ],
   "source": [
    "tiket1 = int(input(\"Isikan Umur Pengunjung: \"))\n",
    "tiket2 = int(input(\"Isikan Umur Pengunjung: \"))\n",
    "tiket3 = int(input(\"Isikan Umur Pengunjung: \"))\n",
    "tiket4 =0\n",
    "\n",
    "total = 0\n",
    "if tiket1 > 59:\n",
    "    keterangan1 = \"Tiket Lansia\"\n",
    "    harga1 = 0\n",
    "    \n",
    "elif tiket1 > 17:\n",
    "    katerangan1 = \"Tiket Dewasa\"\n",
    "    harga1 = 25_000\n",
    "   \n",
    "elif tiket1 > 12:\n",
    "    katerangan1 = \"Tiket Remaja\"\n",
    "    harga1 = 15_000\n",
    "    \n",
    "elif tiket1 >= 0:\n",
    "    katerangan1 = \"Tiket Anak-anak\"\n",
    "    harga1 = 10_000 \n",
    "\n",
    "total += harga1\n",
    "\n",
    "##############\n",
    "if tiket2 > 59:\n",
    "    keterangan2 = \"Tiket Lansia\"\n",
    "    harga2 = 0\n",
    "    \n",
    "elif tiket2 > 17:\n",
    "    katerangan2 = \"Tiket Dewasa\"\n",
    "    harga2 = 25_000\n",
    "   \n",
    "elif tiket2 > 12:\n",
    "    katerangan2 = \"Tiket Remaja\"\n",
    "    harga2 = 15_000\n",
    "    \n",
    "elif tiket2 >= 0:\n",
    "    katerangan2 = \"Tiket Anak-anak\"\n",
    "    harga2 = 10_000  \n",
    "\n",
    "total += harga2\n",
    "\n",
    "##############\n",
    "if tiket3 > 59:\n",
    "    keterangan3 = \"Tiket Lansia\"\n",
    "    harga3 = 0\n",
    "    \n",
    "elif tiket3 > 17:\n",
    "    katerangan3 = \"Tiket Dewasa\"\n",
    "    harga3 = 25_000\n",
    "   \n",
    "elif tiket3 > 12:\n",
    "    katerangan3 = \"Tiket Remaja\"\n",
    "    harga3 = 15_000\n",
    "    \n",
    "elif tiket3 >= 0:\n",
    "    katerangan3 = \"Tiket Anak-anak\"\n",
    "    harga3 = 10_000\n",
    "    \n",
    "total += harga3\n",
    "\n",
    "print(f\"Tiket 1 : {katerangan1} | Harga{harga1}\")\n",
    "print(f\"Tiket 2 : {katerangan2} | Harga{harga2}\")\n",
    "print(f\"Tiket 3 : {katerangan3} | Harga{harga3}\")\n",
    "print(f\"Total yang harus di bayar: {total}\")\n",
    "   "
   ]
  },
  {
   "cell_type": "code",
   "execution_count": 68,
   "id": "e43e7248-bb0f-4d14-b82f-537a52db742b",
   "metadata": {},
   "outputs": [
    {
     "name": "stdin",
     "output_type": "stream",
     "text": [
      "Isikan Pembayaran UKT:  5000000\n",
      "Isikan Penghasilan ORTU:  500000\n",
      "Isikan Nilai Rapor Siswa:  85\n"
     ]
    },
    {
     "name": "stdout",
     "output_type": "stream",
     "text": [
      "Uang UKT: 5000000\n",
      "Nilai Rapor: 85\n",
      "Penghasilan Ortu: 500000\n",
      "Beasiswa: Beasiswa 50%\n",
      "Total Bayar: 2500000.0\n"
     ]
    }
   ],
   "source": [
    "ukt = int(input(\"Isikan Pembayaran UKT: \"))\n",
    "penghasilan = int(input(\"Isikan Penghasilan ORTU: \"))\n",
    "nilaiRapor = int(input(\"Isikan Nilai Rapor Siswa: \"))\n",
    "\n",
    "beasiswa = 0\n",
    "if nilaiRapor >= 90:\n",
    "    if penghasilan < 5_000_000:\n",
    "        beasiswa = 100\n",
    "        keterangan = \"Beasiswa Penuh\"\n",
    "elif nilaiRapor >= 85:\n",
    "    if penghasilan < 8_000_000:\n",
    "        beasiswa = 50\n",
    "        keterangan = \"Beasiswa 50%\"\n",
    "else:\n",
    "    keterangan = \"Tidak mendapatkan BEASISWA\"\n",
    "\n",
    "total = ukt - (ukt * (beasiswa/100))\n",
    "print(f\"Uang UKT: {ukt}\")\n",
    "print(f\"Nilai Rapor: {nilaiRapor}\")\n",
    "print(f\"Penghasilan Ortu: {penghasilan}\")\n",
    "print(f\"Beasiswa: {keterangan}\")\n",
    "print(f\"Total Bayar: {total}\")"
   ]
  },
  {
   "cell_type": "code",
   "execution_count": 78,
   "id": "194c7656-20e8-4456-b923-7f05d7a3e45f",
   "metadata": {},
   "outputs": [
    {
     "name": "stdin",
     "output_type": "stream",
     "text": [
      "Isikan Jenis Kendaraan:  motor\n",
      "isikan Jam Masuk:  7\n",
      "Isikan Jam Keluar:  10\n"
     ]
    },
    {
     "name": "stdout",
     "output_type": "stream",
     "text": [
      "Total Biaya Parkir: 6000\n"
     ]
    }
   ],
   "source": [
    "jenis = input(\"Isikan Jenis Kendaraan: \")\n",
    "jamMasuk = int(input(\"isikan Jam Masuk: \"))\n",
    "jamKeluar = int(input(\"Isikan Jam Keluar: \"))\n",
    "\n",
    "harga = 0\n",
    "total = 0\n",
    "tambahkan = 0\n",
    "if jamMasuk >= jamKeluar:\n",
    "    print(\"Input Jam Tidak Valid\")\n",
    "else:\n",
    "    if jenis == \"motor\":\n",
    "        harga = 2000\n",
    "    elif jenis == \"mobil\":\n",
    "        harga = 5000\n",
    "    else:\n",
    "        print(\"Jenis Kendaraan Tidak Ada\")\n",
    "        harga = 0\n",
    "\n",
    "lama = jamKeluar - jamMasuk \n",
    "if lama > 5:\n",
    "    tambahan = 10000\n",
    "else:\n",
    "    tambahan = 0\n",
    "\n",
    "print(f\"Total Biaya Parkir: {lama * harga + tambahan}\")\n",
    "\n",
    "\n"
   ]
  },
  {
   "cell_type": "code",
   "execution_count": null,
   "id": "c82d1ed5-e31f-406a-a6ea-e0a4505e4efc",
   "metadata": {},
   "outputs": [],
   "source": [
    "nomor = int(input(\"Masukan nomor punggung\"))\n",
    "\n",
    "if nomor % 2 == 0 :\n",
    "    keterangan = \"target attaker\"\n",
    "    if 50 <= nomor <= 100 : \n",
    "        keterangan2 = \"Berhak dipilih menjadi kapten\"\n",
    "elif nomor % 2 == 1:\n",
    "    keterangan = \"defender\"\n",
    "    if nomor > 90 :\n",
    "        keterangan2 = \"PlayMaker\"\n",
    "    elif nomor % 3 == 0 or nomor % 5 == 0 :\n",
    "        keterangan2 = \"Keeper\"\n",
    "else :\n",
    "    print(\"Tidak Valdi\")\n",
    "\n",
    "print(f\"Anda menjadi {keterangan} dan anda {keterangan2}\")"
   ]
  },
  {
   "cell_type": "code",
   "execution_count": null,
   "id": "d3928db1-e4d7-4a97-976f-94024a4380d9",
   "metadata": {},
   "outputs": [],
   "source": []
  }
 ],
 "metadata": {
  "kernelspec": {
   "display_name": "Python [conda env:base] *",
   "language": "python",
   "name": "conda-base-py"
  },
  "language_info": {
   "codemirror_mode": {
    "name": "ipython",
    "version": 3
   },
   "file_extension": ".py",
   "mimetype": "text/x-python",
   "name": "python",
   "nbconvert_exporter": "python",
   "pygments_lexer": "ipython3",
   "version": "3.12.7"
  }
 },
 "nbformat": 4,
 "nbformat_minor": 5
}
