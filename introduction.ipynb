{
 "cells": [
  {
   "cell_type": "markdown",
   "id": "f7125d1a-fd0a-41b2-992a-93d64c820033",
   "metadata": {},
   "source": [
    "<center>\n",
    "<img src=\"https://upload.wikimedia.org/wikipedia/commons/f/f8/Python_logo_and_wordmark.svg\" width=\"200\">    \n",
    "</center>\n",
    "<br>\n",
    "<b>Cell di jupyter ada 2 jenis:</b>\n",
    "<ol>\n",
    "    <li>Mark Down - (M)</li>\n",
    "    <li>Code - (Y)</li>\n",
    "</ol>\n",
    "\n"
   ]
  },
  {
   "cell_type": "markdown",
   "id": "90320435-136b-4cf6-9b94-b8e75564c43a",
   "metadata": {},
   "source": [
    "Cara menambahkan cell ada 2:\n",
    "<ul>\n",
    "    <li>A (above) di atas cell</li>\n",
    "    <li>B (Below) di bawah cell</li>\n",
    "</ul>"
   ]
  },
  {
   "cell_type": "markdown",
   "id": "b912b0ef-416b-4d26-ad14-94904183da8e",
   "metadata": {},
   "source": [
    "<table>\n",
    "    <tr>\n",
    "        <td>Nama</td>\n",
    "        <td>:</td>\n",
    "        <td>Rosya Fitriani Supyan</td>\n",
    "    </tr>\n",
    "        <td>NIM</td>\n",
    "        <td>:</td>\n",
    "        <td>20240040098</td>\n",
    "    <tr>\n",
    "        <td>Kelas</td>\n",
    "        <td>:</td>\n",
    "        <td>TI24G</td>\n",
    "    </tr>\n",
    "</table>"
   ]
  },
  {
   "cell_type": "code",
   "execution_count": 14,
   "id": "cc9472c5-4398-4e93-809b-9ec1034de24e",
   "metadata": {},
   "outputs": [
    {
     "name": "stdout",
     "output_type": "stream",
     "text": [
      "phyton is very eassy\n",
      "Sekarang hari jumat\n",
      "deklarasi variabel\"A\"\n",
      "5\n"
     ]
    },
    {
     "data": {
      "text/plain": [
       "'54'"
      ]
     },
     "execution_count": 14,
     "metadata": {},
     "output_type": "execute_result"
    }
   ],
   "source": [
    "print(\"phyton is very eassy\")\n",
    "print(\"Sekarang hari jumat\")\n",
    "print('deklarasi variabel\"A\"')\n",
    "number = \"5\"\n",
    "print(number)\n",
    "int (number) + 10\n",
    "number + \"4\""
   ]
  },
  {
   "cell_type": "code",
   "execution_count": null,
   "id": "68588043-2d09-4bb3-be74-9b7521089136",
   "metadata": {},
   "outputs": [],
   "source": []
  }
 ],
 "metadata": {
  "kernelspec": {
   "display_name": "Python [conda env:base] *",
   "language": "python",
   "name": "conda-base-py"
  },
  "language_info": {
   "codemirror_mode": {
    "name": "ipython",
    "version": 3
   },
   "file_extension": ".py",
   "mimetype": "text/x-python",
   "name": "python",
   "nbconvert_exporter": "python",
   "pygments_lexer": "ipython3",
   "version": "3.12.7"
  }
 },
 "nbformat": 4,
 "nbformat_minor": 5
}
