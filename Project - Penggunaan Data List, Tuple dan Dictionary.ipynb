{
 "cells": [
  {
   "cell_type": "code",
   "execution_count": null,
   "id": "2997e4dd-88e8-428f-8818-2fb16151510b",
   "metadata": {},
   "outputs": [
    {
     "name": "stdout",
     "output_type": "stream",
     "text": [
      "\n",
      "--- Menu ---\n",
      "1. Tambah Mahasiswa\n",
      "2. Tampilkan Seluruh Mahasiswa\n",
      "3. Cari Mahasiswa\n",
      "4. Update IPK Mahasiswa\n",
      "5. Hapus Mahasiswa\n",
      "6. Keluar\n"
     ]
    },
    {
     "name": "stdin",
     "output_type": "stream",
     "text": [
      "Pilihan Anda:  2\n"
     ]
    },
    {
     "name": "stdout",
     "output_type": "stream",
     "text": [
      "\n",
      "Data Seluruh Mahasiswa:\n",
      "NIM: 20240040098 | Nama: Rosya Fitriani Supyan | Jurusan: Teknik Informatika | IPK: 3.89\n",
      "NIM: 20240040091 | Nama: Esa Wilanda Putri | Jurusan: Teknik Informatika | IPK: 4.0\n",
      "NIM: 20240040160 | Nama: Mohammad Jafar Tella | Jurusan: Teknik Informatika | IPK: 3.89\n",
      "\n",
      "--- Menu ---\n",
      "1. Tambah Mahasiswa\n",
      "2. Tampilkan Seluruh Mahasiswa\n",
      "3. Cari Mahasiswa\n",
      "4. Update IPK Mahasiswa\n",
      "5. Hapus Mahasiswa\n",
      "6. Keluar\n"
     ]
    }
   ],
   "source": [
    "mahasiswa = {\n",
    "    \"20240040098\": (\"Rosya Fitriani Supyan\", \"Teknik Informatika\", 3.89),\n",
    "    \"20240040091\": (\"Esa Wilanda Putri\", \"Teknik Informatika\", 4.0),\n",
    "    \"20240040160\": (\"Mohammad Jafar Tella\",\"Teknik Informatika\",3.89)\n",
    "}\n",
    "def tambah_mahasiswa():\n",
    "    nim = input(\"Masukkan NIM: \")\n",
    "    if nim in mahasiswa:\n",
    "        print(\"Mahasiswa dengan NIM tersebut sudah ada!\")\n",
    "        return\n",
    "    nama = input(\"Masukkan Nama: \")\n",
    "    jurusan = input(\"Masukkan Jurusan: \")\n",
    "    try:\n",
    "        ipk = float(input(\"Masukkan IPK: \"))\n",
    "    except ValueError:\n",
    "        print(\"IPK harus berupa angka!\")\n",
    "        return\n",
    "    mahasiswa[nim] = (nama, jurusan, ipk)\n",
    "    print(\"Mahasiswa berhasil ditambahkan!\")\n",
    "def tampilkan_mahasiswa():\n",
    "    if not mahasiswa:\n",
    "        print(\"Belum ada data mahasiswa.\")\n",
    "        return\n",
    "    print(\"\\nData Seluruh Mahasiswa:\")\n",
    "    for nim, data in mahasiswa.items():\n",
    "        nama, jurusan, ipk = data\n",
    "        print(f\"NIM: {nim} | Nama: {nama} | Jurusan: {jurusan} | IPK: {ipk}\")\n",
    "def cari_mahasiswa():\n",
    "    nim = input(\"Masukkan NIM yang dicari: \")\n",
    "    if nim in mahasiswa:\n",
    "        nama, jurusan, ipk = mahasiswa[nim]\n",
    "        print(f\"NIM: {nim} | Nama: {nama} | Jurusan: {jurusan} | IPK: {ipk}\")\n",
    "    else:\n",
    "        print(\"Mahasiswa tidak ditemukan.\")\n",
    "\n",
    "def update_ipk():\n",
    "    nim = input(\"Masukkan NIM mahasiswa yang ingin diupdate: \")\n",
    "    if nim in mahasiswa:\n",
    "        try:\n",
    "            ipk_baru = float(input(\"Masukkan IPK baru: \"))\n",
    "        except ValueError:\n",
    "            print(\"IPK harus berupa angka!\")\n",
    "            return\n",
    "        nama, jurusan, _ = mahasiswa[nim]\n",
    "        mahasiswa[nim] = (nama, jurusan, ipk_baru)\n",
    "        print(\"IPK berhasil diperbarui.\")\n",
    "    else:\n",
    "        print(\"Mahasiswa tidak ditemukan.\")\n",
    "def hapus_mahasiswa():\n",
    "    nim = input(\"Masukkan NIM mahasiswa yang ingin dihapus: \")\n",
    "    if nim in mahasiswa:\n",
    "        del mahasiswa[nim]\n",
    "        print(\"Data mahasiswa berhasil dihapus.\")\n",
    "    else:\n",
    "        print(\"Mahasiswa tidak ditemukan.\")\n",
    "def menu():\n",
    "    while True:\n",
    "        print(\"\\n--- Menu ---\")\n",
    "        print(\"1. Tambah Mahasiswa\")\n",
    "        print(\"2. Tampilkan Seluruh Mahasiswa\")\n",
    "        print(\"3. Cari Mahasiswa\")\n",
    "        print(\"4. Update IPK Mahasiswa\")\n",
    "        print(\"5. Hapus Mahasiswa\")\n",
    "        print(\"6. Keluar\")\n",
    "        pilihan = input(\"Pilihan Anda: \")\n",
    "\n",
    "        if pilihan == \"1\":\n",
    "            tambah_mahasiswa()\n",
    "        elif pilihan == \"2\":\n",
    "            tampilkan_mahasiswa()\n",
    "        elif pilihan == \"3\":\n",
    "            cari_mahasiswa()\n",
    "        elif pilihan == \"4\":\n",
    "            update_ipk()\n",
    "        elif pilihan == \"5\":\n",
    "            hapus_mahasiswa()\n",
    "        elif pilihan == \"6\":\n",
    "            print(\"Terima kasih! Program selesai.\")\n",
    "            break\n",
    "        else:\n",
    "            print(\"Pilihan tidak valid. Silakan coba lagi.\")\n",
    "\n",
    "\n",
    "menu()"
   ]
  },
  {
   "cell_type": "code",
   "execution_count": null,
   "id": "59ee9ee8-fba1-4650-a8b1-485462c3d453",
   "metadata": {},
   "outputs": [],
   "source": []
  }
 ],
 "metadata": {
  "kernelspec": {
   "display_name": "Python [conda env:base] *",
   "language": "python",
   "name": "conda-base-py"
  },
  "language_info": {
   "codemirror_mode": {
    "name": "ipython",
    "version": 3
   },
   "file_extension": ".py",
   "mimetype": "text/x-python",
   "name": "python",
   "nbconvert_exporter": "python",
   "pygments_lexer": "ipython3",
   "version": "3.12.7"
  }
 },
 "nbformat": 4,
 "nbformat_minor": 5
}
