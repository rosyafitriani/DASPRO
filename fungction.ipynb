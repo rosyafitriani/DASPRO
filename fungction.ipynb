{
 "cells": [
  {
   "cell_type": "code",
   "execution_count": 19,
   "id": "53deca93-a38c-4643-b174-7fb212b8172d",
   "metadata": {},
   "outputs": [
    {
     "name": "stdout",
     "output_type": "stream",
     "text": [
      "UKA ATNIC UMAK\n",
      "PYTHON HARI BELAJAR SEDANG INI\n",
      "Ak|_| C1nts K4m|_|\n",
      "4ku Cints Kamu\n"
     ]
    }
   ],
   "source": [
    "def reverse_per_kata(kalimat):\n",
    "    kata = kalimat.split()\n",
    "    hasil = []\n",
    "    for k in kata:\n",
    "        hasil.append(k[::-1])\n",
    "    return ' '.join(hasil)\n",
    "\n",
    "def urutkan_kalimat(kalimat, urutkan):\n",
    "    kata = kalimat.split()\n",
    "    hasil = []\n",
    "    for huruf in urutkan:\n",
    "        hasil.append(kata[huruf-1])\n",
    "    return ' '.join(hasil)\n",
    "\n",
    "def ganti_vokal(kalimat, posisi):\n",
    "    vokal_kecil = {'a': '4', 'i': '1', 'u': '|_|', 'e': '3', 'o':'0'}\n",
    "    vokal_besar = {'A': '4', 'I': '1', 'U': '|_|', 'E': '3', 'O':'0'}\n",
    "    hasil = ''\n",
    "    for huruf in kalimat:\n",
    "        if posisi == 1 and huruf in vokal_kecil:\n",
    "            hasil += vokal_kecil[huruf]\n",
    "        elif posisi == 2 and huruf in vokal_besar:\n",
    "            hasil += vokal_besar[huruf]\n",
    "        else:\n",
    "            hasil += huruf\n",
    "    return hasil\n",
    "\n",
    "print(reverse_per_kata(\"AKU CINTA KAMU\"))\n",
    "print(urutkan_kalimat(\"HARI INI SEDANG BELAJAR PYTHON\",[5,1,4,3,2]))\n",
    "print(ganti_vokal(\"Aku Cints Kamu\",1))\n",
    "print(ganti_vokal(\"Aku Cints Kamu\",2))\n"
   ]
  },
  {
   "cell_type": "code",
   "execution_count": null,
   "id": "0be290a3-242b-455b-8612-d03098312bd3",
   "metadata": {},
   "outputs": [],
   "source": []
  }
 ],
 "metadata": {
  "kernelspec": {
   "display_name": "Python [conda env:base] *",
   "language": "python",
   "name": "conda-base-py"
  },
  "language_info": {
   "codemirror_mode": {
    "name": "ipython",
    "version": 3
   },
   "file_extension": ".py",
   "mimetype": "text/x-python",
   "name": "python",
   "nbconvert_exporter": "python",
   "pygments_lexer": "ipython3",
   "version": "3.12.7"
  }
 },
 "nbformat": 4,
 "nbformat_minor": 5
}
