{
 "cells": [
  {
   "cell_type": "markdown",
   "id": "ed1219c2-bd99-4866-b45d-910956e938ee",
   "metadata": {},
   "source": [
    "<h1>Operator Aritmatika</h1>\n"
   ]
  },
  {
   "cell_type": "code",
   "execution_count": 15,
   "id": "9d9a1a32-d415-44e8-be22-d7750b189b98",
   "metadata": {},
   "outputs": [
    {
     "name": "stdin",
     "output_type": "stream",
     "text": [
      "Isikan Nilai x : 10\n",
      "Isikan Nilai y : 5\n"
     ]
    },
    {
     "name": "stdout",
     "output_type": "stream",
     "text": [
      "Hasil Penjumlahan 10 + 5 = 15\n",
      "Hasil Pengrangan 10 - 5 = 5\n",
      "Hasil Perkalian 10 * 5 = 50\n",
      "Hasil Pembagian 10 / 5 = 2.0\n",
      "Hasil Modulus 10 % 5 = 0\n",
      "Hasil Pangkat 10 ** 5 = 100000\n",
      "Hasil Pembagian Bulat 10 // 5 = 2\n"
     ]
    }
   ],
   "source": [
    "x = int(input (\"Isikan Nilai x :\"))\n",
    "y = int(input(\"Isikan Nilai y :\"))\n",
    "\n",
    "hasilTambah = x + y\n",
    "hasilKurang = x - y\n",
    "hasilKali = x * y\n",
    "hasilBagi = x / y\n",
    "hasilMod = x % y\n",
    "hasilPangkat = x ** y\n",
    "hasilBagiBulat = x // y\n",
    "\n",
    "print(\"Hasil Penjumlahan\",x,\"+\",y,\"=\",hasilTambah)\n",
    "print(\"Hasil Pengrangan\",x,\"-\",y,\"=\",hasilKurang)\n",
    "print(\"Hasil Perkalian\",x,\"*\",y,\"=\",hasilKali)\n",
    "print(\"Hasil Pembagian\",x,\"/\",y,\"=\",hasilBagi)\n",
    "print(\"Hasil Modulus\",x,\"%\",y,\"=\",hasilMod)\n",
    "print(\"Hasil Pangkat\",x,\"**\",y,\"=\",hasilPangkat)\n",
    "print(\"Hasil Pembagian Bulat\",x,\"//\",y,\"=\",hasilBagiBulat)"
   ]
  },
  {
   "cell_type": "markdown",
   "id": "952ff3d4-e07c-45c5-9fda-d7865f6d2eed",
   "metadata": {},
   "source": [
    "<h1>Operator Penugasan</h1>\n"
   ]
  },
  {
   "cell_type": "code",
   "execution_count": 17,
   "id": "99c4634d-7f50-4e74-a8e8-0da1d2cec397",
   "metadata": {},
   "outputs": [
    {
     "name": "stdin",
     "output_type": "stream",
     "text": [
      "Isikan Nilai : 10\n"
     ]
    },
    {
     "name": "stdout",
     "output_type": "stream",
     "text": [
      "Nilai dari variabel 'number' 10\n",
      "Setelah ditambah dengan 5 : 15\n",
      "Kemudian dikurangi 10 : 5\n",
      "Selanjutnya di bagi dengan 2 : 2.5\n",
      "Terakhir dikalikan 10 : 12.5\n"
     ]
    }
   ],
   "source": [
    "number = int(input(\"Isikan Nilai :\"))\n",
    "print(\"Nilai dari variabel 'number'\",number)\n",
    "number+=5\n",
    "print(\"Setelah ditambah dengan 5 :\",number)\n",
    "number-=10\n",
    "print(\"Kemudian dikurangi 10 :\",number)\n",
    "number/=2\n",
    "print(\"Selanjutnya di bagi dengan 2 :\",number)\n",
    "number*=5\n",
    "print(\"Terakhir dikalikan 10 :\",number)"
   ]
  },
  {
   "cell_type": "markdown",
   "id": "1b36fa57-edc9-458c-966b-6a9b30004d5a",
   "metadata": {},
   "source": [
    "<h1>Operator Perbandingan</h1>"
   ]
  },
  {
   "cell_type": "code",
   "execution_count": 20,
   "id": "16f3fd4e-093d-4cd6-925c-612f5b501335",
   "metadata": {},
   "outputs": [
    {
     "name": "stdin",
     "output_type": "stream",
     "text": [
      "Isikan Nilai val1 : 5\n",
      "Isikan Nilai val2 : 10\n"
     ]
    },
    {
     "name": "stdout",
     "output_type": "stream",
     "text": [
      "Apakah 5 > 10 ? False\n",
      "Apakah 5 < 10 ? True\n",
      "Apakah 5 >= 10 ? False\n",
      "Apakah 5 <= 10 ? True\n",
      "Apakah 5 == 10 ? False\n",
      "Apakah 5 != 10 ? True\n"
     ]
    }
   ],
   "source": [
    "val1 = int(input(\"Isikan Nilai val1 :\"))\n",
    "val2 = int(input(\"Isikan Nilai val2 :\"))\n",
    "\n",
    "print(\"Apakah\",val1,\">\",val2,\"?\", val1 > val2)\n",
    "print(\"Apakah\",val1,\"<\",val2,\"?\", val1 < val2)\n",
    "print(\"Apakah\",val1,\">=\",val2,\"?\", val1 >= val2)\n",
    "print(\"Apakah\",val1,\"<=\",val2,\"?\", val1 <= val2)\n",
    "print(\"Apakah\",val1,\"==\",val2,\"?\", val1 == val2)\n",
    "print(\"Apakah\",val1,\"!=\",val2,\"?\", val1 != val2)\n",
    "\n",
    "      "
   ]
  },
  {
   "cell_type": "markdown",
   "id": "8d961387-c524-4464-974d-c324ade80935",
   "metadata": {},
   "source": [
    "<h1>Operator Logika</h1>"
   ]
  },
  {
   "cell_type": "code",
   "execution_count": 27,
   "id": "11a2d411-a77d-47a6-a995-0d7914e0e9df",
   "metadata": {},
   "outputs": [
    {
     "name": "stdin",
     "output_type": "stream",
     "text": [
      "Isikan Number1: 1\n",
      "Isikan Number2: 2\n",
      "Isikan Number3: 3\n",
      "Isikan Number4: 4\n"
     ]
    },
    {
     "name": "stdout",
     "output_type": "stream",
     "text": [
      "Apakah 1 > 2 and 3 == 4 ?\n",
      "False\n",
      "Apakah 1 > 2 or 3 == 4 ?\n",
      "False\n",
      "Apakah 1 > 2 not and 3 == 4 ?\n",
      "True\n"
     ]
    }
   ],
   "source": [
    "number1 = int(input(\"Isikan Number1:\"))\n",
    "number2 = int(input(\"Isikan Number2:\"))\n",
    "number3 = int(input(\"Isikan Number3:\"))\n",
    "number4 = int(input(\"Isikan Number4:\"))\n",
    "\n",
    "print(\"Apakah\",number1,\">\",number2,\"and\",number3,\"==\",number4,\"?\")\n",
    "print(number1>number2 and number3==number4)\n",
    "\n",
    "\n",
    "print(\"Apakah\",number1,\">\",number2,\"or\",number3,\"==\",number4,\"?\")\n",
    "print(number1>number2 or number3==number4)\n",
    "\n",
    "print(\"Apakah\",number1,\">\",number2,\"not and\",number3,\"==\",number4,\"?\")\n",
    "print(not(number1>number2 and number3==number4))"
   ]
  },
  {
   "cell_type": "markdown",
   "id": "319878b9-c4e2-424a-b591-1b2d1a39c042",
   "metadata": {},
   "source": [
    "<h1>Operator Identitas</h1>"
   ]
  },
  {
   "cell_type": "code",
   "execution_count": 34,
   "id": "5d802ae2-1196-4bb8-bdb5-47ca8288edb3",
   "metadata": {},
   "outputs": [
    {
     "name": "stdout",
     "output_type": "stream",
     "text": [
      "Alamat Memori idty1 140708214614744\n",
      "Alamat Memori idty2 1718315035424\n",
      "Alamat Memori idty3 140708214614744\n",
      "Apakah idty1 is idty2? False\n",
      "Apakah idty2 is idty3? False\n",
      "Apakah idty3 is idty1? True\n",
      "Apakah idty1 is not idty2? True\n",
      "Apakah idty2 is not idty3? True\n",
      "Apakah idty3 is not idty1? False\n"
     ]
    }
   ],
   "source": [
    "idty1 = 10\n",
    "idty2 = \"10\"\n",
    "idty3 = idty1\n",
    "\n",
    "print(\"Alamat Memori idty1\",id(idty1))\n",
    "print(\"Alamat Memori idty2\",id(idty2))\n",
    "print(\"Alamat Memori idty3\",id(idty3))\n",
    "print(\"Apakah idty1 is idty2?\",idty1 is idty2)\n",
    "print(\"Apakah idty2 is idty3?\",idty2 is idty3)\n",
    "print(\"Apakah idty3 is idty1?\",idty3 is idty1)\n",
    "\n",
    "print(\"Apakah idty1 is not idty2?\",idty1 is not idty2)\n",
    "print(\"Apakah idty2 is not idty3?\",idty2 is not idty3)\n",
    "print(\"Apakah idty3 is not idty1?\",idty3 is not idty1)"
   ]
  },
  {
   "cell_type": "markdown",
   "id": "88963c90-19dc-4390-b16d-3207949cea3c",
   "metadata": {},
   "source": [
    "<h1>Operator Keanggotaan</h1>"
   ]
  },
  {
   "cell_type": "code",
   "execution_count": 41,
   "id": "99faad85-442b-44c8-8fa5-f8ae6a68db79",
   "metadata": {
    "scrolled": true
   },
   "outputs": [
    {
     "name": "stdin",
     "output_type": "stream",
     "text": [
      "Insert Your Fruit: Manggo\n"
     ]
    },
    {
     "name": "stdout",
     "output_type": "stream",
     "text": [
      "Is there any Manggo in ['Watermelon', 'Manggo', 'Star Fruit', 'Pineapple'] ? True\n"
     ]
    }
   ],
   "source": [
    "listFruit = [\"Watermelon\",\"Manggo\",\"Star Fruit\",\"Pineapple\"]\n",
    "findFruit = input(\"Insert Your Fruit:\")\n",
    "print(\"Is there any\",findFruit,\"in\",listFruit,\"?\",findFruit in listFruit)\n"
   ]
  },
  {
   "cell_type": "markdown",
   "id": "30a0cadc-d2a0-4cf8-bf8c-31bac7ab5129",
   "metadata": {},
   "source": []
  },
  {
   "cell_type": "code",
   "execution_count": 1,
   "id": "3002648a-8711-49aa-87ee-4df4d2b6398d",
   "metadata": {},
   "outputs": [
    {
     "name": "stdin",
     "output_type": "stream",
     "text": [
      "Insert Bilangan 1: 6\n",
      "Insert Bilangan 2: 3\n"
     ]
    },
    {
     "name": "stdout",
     "output_type": "stream",
     "text": [
      "\n",
      "0b110\n",
      "0b11\n",
      "========&\n",
      "0b10 = 2\n",
      "\n",
      "0b110\n",
      "0b11\n",
      "========^\n",
      "0b111 = 7\n"
     ]
    }
   ],
   "source": [
    "#Operator Bitwise\n",
    "num1 = int(input(\"Insert Bilangan 1:\"))\n",
    "num2 = int(input(\"Insert Bilangan 2:\"))\n",
    "\n",
    "print()\n",
    "bAnd = num1 & num2\n",
    "print(bin(num1))\n",
    "print(bin(num2))\n",
    "print(\"========&\")\n",
    "print(bin(bAnd),\"=\",bAnd)\n",
    "\n",
    "print()\n",
    "bOr = num1 | num2\n",
    "print(bin(num1))\n",
    "print(bin(num2))\n",
    "print(\"========|\")\n",
    "print(bin(bOr),\"=\",bOr)\n"
   ]
  },
  {
   "cell_type": "markdown",
   "id": "8437d7b3-b925-4e3d-ac3d-23d63ac77d2e",
   "metadata": {},
   "source": [
    "<h1>Operator Ternary</h1>"
   ]
  },
  {
   "cell_type": "code",
   "execution_count": 48,
   "id": "1c83931f-24dd-4d39-8d52-718b077bdbbd",
   "metadata": {},
   "outputs": [
    {
     "name": "stdin",
     "output_type": "stream",
     "text": [
      "Isikan Bilangan: 10\n"
     ]
    },
    {
     "name": "stdout",
     "output_type": "stream",
     "text": [
      "10 Adalah Bilangan Genap\n"
     ]
    }
   ],
   "source": [
    "#Bilangan Ganjil atau Genap \n",
    "bil = int(input(\"Isikan Bilangan:\"))\n",
    "oddEven = \"Genap\" if bil %2==0 else \"Ganjil\"\n",
    "print(bil,\"Adalah Bilangan\",oddEven)"
   ]
  },
  {
   "cell_type": "code",
   "execution_count": 80,
   "id": "60158015-6def-4fae-9acf-fe022404a1e3",
   "metadata": {},
   "outputs": [
    {
     "name": "stdin",
     "output_type": "stream",
     "text": [
      "Jumlah Es Buah : 3\n",
      "Jumlah Es Teler : 3\n",
      "Jumlah Es Kelapa : 3\n"
     ]
    },
    {
     "name": "stdout",
     "output_type": "stream",
     "text": [
      "Es Buah : 3 * 10000 = 30000\n",
      "Es Teler : 3 * 15000 = 45000\n",
      "Es Kelapa : 3 * 20000 = 60000\n",
      "Total Belanja : 135000\n",
      "Disc : 10 %\n",
      " Total Disc : 13500.0\n",
      "Total Bayar : 121500.0\n"
     ]
    }
   ],
   "source": [
    "esBuah = int(input(\"Jumlah Es Buah :\"))\n",
    "esTeler = int(input(\"Jumlah Es Teler :\"))\n",
    "esKelapa = int(input(\"Jumlah Es Kelapa :\"))\n",
    "\n",
    "hargaEsBuah = 10000\n",
    "hargaEsTeler = 15000\n",
    "hargaEsKelapa = 20000\n",
    "\n",
    "print(\"Es Buah :\",esBuah,\"*\",hargaEsBuah,\"=\",esBuah * hargaEsBuah)\n",
    "print(\"Es Teler :\",esTeler,\"*\",hargaEsTeler,\"=\",esTeler * hargaEsTeler)\n",
    "print(\"Es Kelapa :\",esKelapa,\"*\",hargaEsKelapa,\"=\",esKelapa * hargaEsKelapa)\n",
    "\n",
    "totalBelanja = (esBuah * hargaEsBuah) + (esTeler * hargaEsTeler) + (esKelapa * hargaEsKelapa)\n",
    "disc = 10 if totalBelanja > 100000 else 0\n",
    "totalDisc = totalBelanja * (disc/100)\n",
    "totalBayar = totalBelanja - totalDisc\n",
    "\n",
    "print(\"Total Belanja :\",totalBelanja)\n",
    "print(\"Disc :\",disc,\"%\")\n",
    "print(\" Total Disc :\", totalDisc)\n",
    "print(\"Total Bayar :\",totalBayar)\n",
    "\n"
   ]
  },
  {
   "cell_type": "code",
   "execution_count": 92,
   "id": "69772efc-0343-4955-b1ae-6ddb3948744c",
   "metadata": {},
   "outputs": [
    {
     "ename": "SyntaxError",
     "evalue": "invalid syntax (601953016.py, line 2)",
     "output_type": "error",
     "traceback": [
      "\u001b[1;36m  Cell \u001b[1;32mIn[92], line 2\u001b[1;36m\u001b[0m\n\u001b[1;33m    kurang =int(bil[0])+int(bil[1])+int(bil[2])int(bil[3])\u001b[0m\n\u001b[1;37m                                               ^\u001b[0m\n\u001b[1;31mSyntaxError\u001b[0m\u001b[1;31m:\u001b[0m invalid syntax\n"
     ]
    }
   ],
   "source": [
    "bil = input(\"Masukkan Bilangan: \")\n",
    "kurang =int(bil[0])+int(bil[1])+int(bil[2])int(bil[3])\n",
    "pengurangan =int(bil) - kurang\n",
    "print(\"Hasil: \",pengurangan)\n"
   ]
  },
  {
   "cell_type": "code",
   "execution_count": null,
   "id": "b216ea65-c0fd-4fec-b804-7620d23335f7",
   "metadata": {},
   "outputs": [],
   "source": []
  }
 ],
 "metadata": {
  "kernelspec": {
   "display_name": "Python [conda env:base] *",
   "language": "python",
   "name": "conda-base-py"
  },
  "language_info": {
   "codemirror_mode": {
    "name": "ipython",
    "version": 3
   },
   "file_extension": ".py",
   "mimetype": "text/x-python",
   "name": "python",
   "nbconvert_exporter": "python",
   "pygments_lexer": "ipython3",
   "version": "3.12.7"
  }
 },
 "nbformat": 4,
 "nbformat_minor": 5
}
