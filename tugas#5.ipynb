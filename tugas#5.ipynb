{
 "cells": [
  {
   "cell_type": "code",
   "execution_count": 135,
   "id": "2e97618c-dbe3-422a-8528-ce32d0d7bbcb",
   "metadata": {},
   "outputs": [
    {
     "name": "stdin",
     "output_type": "stream",
     "text": [
      "Masukkan Nama Anda:  Rosya Fitriani Supyan\n",
      "Masukkan NIM Anda:  20240040098\n",
      "Masukkan Umur Anda:  18\n",
      "Masukkan Alamat Anda:  Gegerbitung\n",
      "Masukkan Status Anda:  Mahasiswa\n"
     ]
    },
    {
     "name": "stdout",
     "output_type": "stream",
     "text": [
      "\n",
      " Biodata: \n",
      "\n",
      "Nama : Rosya Fitriani Supyan\n",
      "NIM : 20240040098\n",
      "Umur : 18\n",
      "Alamat : Gegerbitung\n",
      "Status : Mahasiswa\n"
     ]
    }
   ],
   "source": [
    "nama = input(\"Masukkan Nama Anda: \")\n",
    "nim = input(\"Masukkan NIM Anda: \")\n",
    "umur = input(\"Masukkan Umur Anda: \")\n",
    "alamat = input(\"Masukkan Alamat Anda: \")\n",
    "status = input(\"Masukkan Status Anda: \")\n",
    "\n",
    "print(\"\\n Biodata: \\n\")\n",
    "print(\"Nama : {0}\".format(nama))\n",
    "print(\"NIM : {}\".format(nim))\n",
    "print(\"Umur : {0}\".format(umur))\n",
    "print(\"Alamat : {0}\".format(alamat))\n",
    "print(\"Status : {0}\".format(status))\n"
   ]
  },
  {
   "cell_type": "code",
   "execution_count": 137,
   "id": "49a9ab98-3d70-41ac-a876-15902ebefbaf",
   "metadata": {},
   "outputs": [
    {
     "name": "stdout",
     "output_type": "stream",
     "text": [
      "a. putra nusa\n",
      "b. NIVERSITAS NSA PTRA SKABMI\n",
      "c. SUKABUMI PUTRA NUSA UNIVERSITAS\n",
      "d. UNPS\n",
      "e. TAS SAPU BUMI\n"
     ]
    }
   ],
   "source": [
    "kalimat = \"UNIVERSITAS NUSA PUTRA SUKABUMI\"\n",
    "\n",
    "a = \" \".join(kalimat.split()[1:3][::-1]).lower()  \n",
    "b = kalimat.replace(\"U\", \"\")\n",
    "c = \" \".join(kalimat.split()[::-1])\n",
    "d = \"\".join([word[0] for word in kalimat.split()])\n",
    "e = \"TAS SAPU BUMI\"\n",
    "\n",
    "print(f\"a. {a}\")\n",
    "print(f\"b. {b}\")\n",
    "print(f\"c. {c}\")\n",
    "print(f\"d. {d}\")\n",
    "print(f\"e. {e}\")\n"
   ]
  },
  {
   "cell_type": "code",
   "execution_count": null,
   "id": "2d076dd9-4a6a-4966-afd9-95debd299d5b",
   "metadata": {},
   "outputs": [],
   "source": []
  }
 ],
 "metadata": {
  "kernelspec": {
   "display_name": "Python [conda env:base] *",
   "language": "python",
   "name": "conda-base-py"
  },
  "language_info": {
   "codemirror_mode": {
    "name": "ipython",
    "version": 3
   },
   "file_extension": ".py",
   "mimetype": "text/x-python",
   "name": "python",
   "nbconvert_exporter": "python",
   "pygments_lexer": "ipython3",
   "version": "3.12.7"
  }
 },
 "nbformat": 4,
 "nbformat_minor": 5
}
