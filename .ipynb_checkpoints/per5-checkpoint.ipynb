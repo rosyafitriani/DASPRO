{
 "cells": [
  {
   "cell_type": "code",
   "execution_count": 14,
   "id": "078b62f3-0629-44d7-aa21-9d519e4939a6",
   "metadata": {},
   "outputs": [
    {
     "name": "stdin",
     "output_type": "stream",
     "text": [
      "Isikan nama Anda: A\n"
     ]
    },
    {
     "name": "stdout",
     "output_type": "stream",
     "text": [
      "Selamat Datang A\n",
      "Selamat Datang AndiSelamat Datang BudiSelamat Datang Dina\n",
      "Anggur@Apel@Semangka\n"
     ]
    }
   ],
   "source": [
    "name = input(\"Isikan nama Anda:\")\n",
    "print(\"Selamat Datang\",name)\n",
    "\n",
    "print(\"Selamat Datang Andi\",end='') #end biar si tulisannya ke samping/sebaris\n",
    "print(\"Selamat Datang Budi\",end='')\n",
    "print(\"Selamat Datang Dina\")\n",
    "\n",
    "print(\"Anggur\", \"Apel\", \"Semangka\",sep='@') #list/kumpulan beberapa data @=PEMISAH\n"
   ]
  },
  {
   "cell_type": "code",
   "execution_count": 22,
   "id": "ed404942-db6b-4484-a6ec-647760a220ed",
   "metadata": {},
   "outputs": [
    {
     "name": "stdin",
     "output_type": "stream",
     "text": [
      "Isikan Bilangan 1: 12\n",
      "Isikan Bilangan 2: 11\n"
     ]
    },
    {
     "name": "stdout",
     "output_type": "stream",
     "text": [
      "Hasil Penjumlahan 12 + 11= 23\n"
     ]
    }
   ],
   "source": [
    "#string format\n",
    "val1 = int(input(\"Isikan Bilangan 1:\"))\n",
    "val2 = int(input(\"Isikan Bilangan 2:\"))\n",
    "result = val1 + val2\n",
    "print(\"Hasil Penjumlahan {} + {} = {}\".format(val1,val2,result))"
   ]
  },
  {
   "cell_type": "code",
   "execution_count": 34,
   "id": "16050e50-40d8-409f-9187-796136c8d979",
   "metadata": {},
   "outputs": [
    {
     "name": "stdin",
     "output_type": "stream",
     "text": [
      "Isikan Nama Awal:  a\n",
      "Isikan Nama Tengah:  b\n",
      "Isikan Nama Akhir:  c\n"
     ]
    },
    {
     "name": "stdout",
     "output_type": "stream",
     "text": [
      "Nama Lengkap : cab\n",
      "Nama Lengkap: Rudi Suwarna Andi\n"
     ]
    }
   ],
   "source": [
    "#string index\n",
    "fName = input(\"Isikan Nama Awal: \")\n",
    "mName = input(\"Isikan Nama Tengah: \")\n",
    "lName = input(\"Isikan Nama Akhir: \")\n",
    "\n",
    "print(\"Nama Lengkap : {2}{0}{1}\".format(fName,mName,lName)) #indeksnya bisa terserah\n",
    "\n",
    "#key\n",
    "print(\"Nama Lengkap: {depan} {tengah} {belakang}\".format(belakang='Andi',depan='Rudi',tengah='Suwarna'))"
   ]
  },
  {
   "cell_type": "code",
   "execution_count": 42,
   "id": "e95f3fcd-b05d-41d3-ba25-d9fbcc64281b",
   "metadata": {},
   "outputs": [
    {
     "name": "stdin",
     "output_type": "stream",
     "text": [
      "Isikan NIM Anda:  20240040098\n"
     ]
    },
    {
     "name": "stdout",
     "output_type": "stream",
     "text": [
      "Tahun Masuk : 2024\n",
      "Prodi anda :Teknik Informatika\n",
      "No. Urut :0\n",
      "Angka NIM yang paling akhir: 8\n",
      "NIM setelah di reverse : 89004004202\n"
     ]
    }
   ],
   "source": [
    "#slicing\n",
    "nim = input(\"Isikan NIM Anda: \")\n",
    "\n",
    "tahun = nim[0:4]\n",
    "kodeprodi = nim[4:7]\n",
    "prodi = \"Teknik Informatika\"if kodeprodi==\"004\" else \"Tidak Keren\"\n",
    "urut = nim[7]\n",
    "\n",
    "#Fstring\n",
    "print(f\"Tahun Masuk : {tahun}\")\n",
    "print(f\"Prodi anda :{prodi}\")\n",
    "print(f\"No. Urut :{urut}\")\n",
    "print(f\"Angka NIM yang paling akhir: {nim[-1]}\")\n",
    "print(f\"NIM setelah di reverse : {nim[::-1]}\")"
   ]
  },
  {
   "cell_type": "code",
   "execution_count": 50,
   "id": "1dd2e285-7261-4832-a6a6-98879623fd50",
   "metadata": {},
   "outputs": [
    {
     "name": "stdout",
     "output_type": "stream",
     "text": [
      "Belajar\n",
      "Python\n",
      "itu\n",
      "mudah\n",
      "-1\n"
     ]
    }
   ],
   "source": [
    "#Fungsi String\n",
    "#Split -> untuk memisahkan string berdasarkan karakter\n",
    "kalimat = \"Belajar Python itu mudah\"\n",
    "kata = kalimat.split(' ')\n",
    "print(kata[0])\n",
    "print(kata[1])\n",
    "print(kata[2])\n",
    "print(kata[3])\n",
    "\n",
    "#find-> akan menghasilkan posisi atau index dari sebuah karakter jika di temukan, jika tidak maka jadi -1\n",
    "platmotor = \"12345\"\n",
    "print(platmotor.find(\"7\"))\n"
   ]
  },
  {
   "cell_type": "code",
   "execution_count": 62,
   "id": "e664d967-386c-45b4-b0b7-39e9d2a483a2",
   "metadata": {},
   "outputs": [
    {
     "name": "stdin",
     "output_type": "stream",
     "text": [
      "Masukkan Email Anda:  rosyafitriani_ti24@nusaputra.ac.id\n"
     ]
    },
    {
     "name": "stdout",
     "output_type": "stream",
     "text": [
      "Valid\n"
     ]
    }
   ],
   "source": [
    "email = input(\"Masukkan Email Anda: \")\n",
    "et = email.find(\"@\")\n",
    "dot = email.find(\".\")\n",
    "result = \"Valid\" if et >= 0 and dot >= 0 and et < dot else \"Tidak Valid\" #ternary\n",
    "print(result)"
   ]
  },
  {
   "cell_type": "code",
   "execution_count": 74,
   "id": "1fe8bca1-3d03-4858-889c-ff282c4b0df8",
   "metadata": {},
   "outputs": [
    {
     "name": "stdout",
     "output_type": "stream",
     "text": [
      "0.364707522158748\n",
      "29\n",
      "Mar\n",
      "['Sat', 6]\n"
     ]
    }
   ],
   "source": [
    "import random as r\n",
    "\n",
    "nilai = r.random()     #bilangan float 0 - 1\n",
    "print(nilai)\n",
    "\n",
    "nilaiInt = r.randint(0,100)\n",
    "print(nilaiInt)\n",
    "\n",
    "month = [\"Jan\",\"Feb\",\"Mar\"]\n",
    "cMonth = r.choice(month)\n",
    "print(cMonth)\n",
    "\n",
    "day = [[\"Mon\",1],[\"Tue\",2],[\"Wed\",3],[\"Thu\",4],[\"Fri\",5],[\"Sat\",6]]\n",
    "cDay = r.choice(day)\n",
    "print(cDay)\n"
   ]
  },
  {
   "cell_type": "code",
   "execution_count": 76,
   "id": "88cbf96d-d220-49fa-9609-9d8284a68a65",
   "metadata": {},
   "outputs": [
    {
     "name": "stdout",
     "output_type": "stream",
     "text": [
      "Berapakah: 30 + 38\n"
     ]
    },
    {
     "name": "stdin",
     "output_type": "stream",
     "text": [
      "Isikan Jawaban:  68\n"
     ]
    },
    {
     "name": "stdout",
     "output_type": "stream",
     "text": [
      "Anda Benar\n"
     ]
    }
   ],
   "source": [
    "import random as r\n",
    "nilai1 = r.randint(0,100)\n",
    "nilai2 = r.randint(0,100)\n",
    "\n",
    "print(f\"Berapakah: {nilai1} + {nilai2}\")\n",
    "jawab = int(input(\"Isikan Jawaban: \"))\n",
    "result = \"Anda Benar\" if nilai1 + nilai2 == jawab else \"Anda Salah\"\n",
    "print(result)"
   ]
  },
  {
   "cell_type": "code",
   "execution_count": null,
   "id": "2ac535c4-2ca7-4499-bd09-795a2b3dffda",
   "metadata": {},
   "outputs": [],
   "source": []
  }
 ],
 "metadata": {
  "kernelspec": {
   "display_name": "Python [conda env:base] *",
   "language": "python",
   "name": "conda-base-py"
  },
  "language_info": {
   "codemirror_mode": {
    "name": "ipython",
    "version": 3
   },
   "file_extension": ".py",
   "mimetype": "text/x-python",
   "name": "python",
   "nbconvert_exporter": "python",
   "pygments_lexer": "ipython3",
   "version": "3.12.7"
  }
 },
 "nbformat": 4,
 "nbformat_minor": 5
}
