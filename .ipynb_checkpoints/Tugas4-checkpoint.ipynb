{
 "cells": [
  {
   "cell_type": "markdown",
   "id": "a3e590e5-75a1-46a5-a91b-022de2288ec3",
   "metadata": {},
   "source": [
    "<h1>Operator Aritmatika</h1>"
   ]
  },
  {
   "cell_type": "code",
   "execution_count": 2,
   "id": "1900e3bb-29de-4d73-9668-81c6cd5e4c46",
   "metadata": {},
   "outputs": [
    {
     "name": "stdout",
     "output_type": "stream",
     "text": [
      "setiap orang akan menerima apel sebanyak: 3.0\n",
      "total apel budi sekarang adalah sebanyak: 20\n"
     ]
    }
   ],
   "source": [
    "jumlahApel = 12\n",
    "jumlahTeman = 4\n",
    "\n",
    "apelPerTeman = jumlahApel / jumlahTeman\n",
    "print(\"setiap orang akan menerima apel sebanyak:\",apelPerTeman)\n",
    "\n",
    "tambahanApel = 8\n",
    "totalApel = jumlahApel + tambahanApel\n",
    "\n",
    "print(\"total apel budi sekarang adalah sebanyak:\",totalApel)"
   ]
  },
  {
   "cell_type": "markdown",
   "id": "ec946a6f-45cb-4ceb-8ee5-ad1a54e40787",
   "metadata": {},
   "source": [
    "<h1>Operator Perbandingan</h1>"
   ]
  },
  {
   "cell_type": "code",
   "execution_count": 30,
   "id": "3a666df9-9072-4c0f-8b31-5589eafce501",
   "metadata": {},
   "outputs": [
    {
     "name": "stdout",
     "output_type": "stream",
     "text": [
      "Apakah 160 > 165 ? False\n",
      "Apakah 160 < 165 ? True\n",
      "Apakah 160 >= 165 ? False\n",
      "Apakah 160 <= 165 ? True\n",
      "Apakah 160 == 165 ? False\n",
      "Apakah 160 != 165 ? True\n",
      "Andi lebih tinggi dari Siti\n"
     ]
    }
   ],
   "source": [
    "siti = 160 \n",
    "andi = 165\n",
    "\n",
    "print(\"Apakah\", siti, \">\", andi, \"?\", siti > andi)\n",
    "print(\"Apakah\", siti, \"<\", andi, \"?\", siti < andi)\n",
    "print(\"Apakah\", siti, \">=\", andi, \"?\", siti >= andi)\n",
    "print(\"Apakah\", siti, \"<=\", andi, \"?\", siti <= andi)\n",
    "print(\"Apakah\", siti, \"==\", andi, \"?\", siti == andi)\n",
    "print(\"Apakah\", siti, \"!=\", andi, \"?\", siti != andi)\n",
    "hasil = \"Andi lebih tinggi dari Siti\" if andi > siti else \"Siti lebih tinggi dari Andi\"\n",
    "print(hasil)"
   ]
  },
  {
   "cell_type": "markdown",
   "id": "d54cf22e-ef52-4894-a9be-2cad1a5d45c1",
   "metadata": {},
   "source": [
    "<h1>Operator Logika</h1>"
   ]
  },
  {
   "cell_type": "code",
   "execution_count": 8,
   "id": "9f6b36c0-c75c-418c-95b8-b9c31b1368d2",
   "metadata": {},
   "outputs": [
    {
     "name": "stdout",
     "output_type": "stream",
     "text": [
      "apakah budi bisa bermain di luar True\n"
     ]
    }
   ],
   "source": [
    "cuacaCerah = True\n",
    "prSelesai = True\n",
    "\n",
    "bisaBermain = cuacaCerah and prSelesai\n",
    "print(\"apakah budi bisa bermain di luar\",bisaBermain)"
   ]
  },
  {
   "cell_type": "markdown",
   "id": "dce91f47-c556-4470-b7be-703478710a77",
   "metadata": {},
   "source": [
    "<h1>Operator Bitwise</h1>"
   ]
  },
  {
   "cell_type": "code",
   "execution_count": 17,
   "id": "da610b2a-ad77-46b7-aebb-f4b19499e152",
   "metadata": {},
   "outputs": [
    {
     "name": "stdin",
     "output_type": "stream",
     "text": [
      "Insert Bilangan 1: 6\n",
      "Insert Bilangan 2: 3\n"
     ]
    },
    {
     "name": "stdout",
     "output_type": "stream",
     "text": [
      "\n",
      "0b110\n",
      "0b11\n",
      "========&\n",
      "0b10 = 2\n",
      "\n",
      "0b110\n",
      "0b11\n",
      "========|\n",
      "0b111 = 7\n",
      "\n",
      "0b110\n",
      "0b11\n",
      "========^\n",
      "0b101 = 5\n"
     ]
    }
   ],
   "source": [
    "num1 = int(input(\"Insert Bilangan 1:\"))\n",
    "num2 = int(input(\"Insert Bilangan 2:\"))\n",
    "\n",
    "print()\n",
    "bAnd = num1 & num2\n",
    "print(bin(num1))\n",
    "print(bin(num2))\n",
    "print(\"========&\")\n",
    "print(bin(bAnd),\"=\",bAnd)\n",
    "\n",
    "print()\n",
    "bOr = num1 | num2\n",
    "print(bin(num1))\n",
    "print(bin(num2))\n",
    "print(\"========|\")\n",
    "print(bin(bOr),\"=\",bOr)\n",
    "\n",
    "print()\n",
    "bXOr = num1 ^ num2\n",
    "print(bin(num1))\n",
    "print(bin(num2))\n",
    "print(\"========^\")\n",
    "print(bin(bXOr),\"=\",bXOr)"
   ]
  },
  {
   "cell_type": "markdown",
   "id": "d453754a-8ef6-4017-b33a-5368e303c759",
   "metadata": {},
   "source": [
    "<h1>Operator Penugasan</h1>"
   ]
  },
  {
   "cell_type": "code",
   "execution_count": 20,
   "id": "d73c27e5-6a55-48d5-bb92-3d448c9fc93f",
   "metadata": {},
   "outputs": [
    {
     "name": "stdout",
     "output_type": "stream",
     "text": [
      "uangAwal 50000\n",
      "setelah di tambah 20000 = 70000\n",
      "dia membeli paket internet sebesar 30000 = 40000\n"
     ]
    }
   ],
   "source": [
    "uangAwal = 50000\n",
    "print(\"uangAwal\",uangAwal)\n",
    "uangAwal += 20000\n",
    "print(\"setelah di tambah 20000 =\",uangAwal)\n",
    "uangAwal -= 30000\n",
    "print(\"dia membeli paket internet sebesar 30000 =\",uangAwal)\n"
   ]
  },
  {
   "cell_type": "markdown",
   "id": "52b47bfb-f45e-499b-9f79-003e2b5915cf",
   "metadata": {},
   "source": [
    "<h1>Operator Keanggotaan</h1>"
   ]
  },
  {
   "cell_type": "code",
   "execution_count": 33,
   "id": "be367444-e9e5-492d-a2a4-904facad1b11",
   "metadata": {},
   "outputs": [
    {
     "name": "stdin",
     "output_type": "stream",
     "text": [
      "Nama Peserta Lomba: eka\n"
     ]
    },
    {
     "name": "stdout",
     "output_type": "stream",
     "text": [
      "Apakah terdaftar di Daftar Peserta Lomba? eka in ['andi', 'budi', 'citra', 'dewi'] ? False\n"
     ]
    },
    {
     "name": "stdin",
     "output_type": "stream",
     "text": [
      "Kata: pyhton\n"
     ]
    },
    {
     "name": "stdout",
     "output_type": "stream",
     "text": [
      "Apakah Kata terdaftar Kalima? pyhton in saya suka belajar bahasa pyhton ? True\n"
     ]
    }
   ],
   "source": [
    "\n",
    "\n",
    "daftarPesertaLomba = [\"andi\",\"budi\",\"citra\",\"dewi\"]\n",
    "pesertaLomba = input(\"Nama Peserta Lomba:\")\n",
    "print(\"Apakah terdaftar di Daftar Peserta Lomba?\",pesertaLomba,\"in\",daftarPesertaLomba,\"?\",pesertaLomba in daftarPesertaLomba)\n",
    "\n",
    "kalimat = \"saya suka belajar bahasa pyhton\"\n",
    "kataYangDiCari = input(\"Kata:\")\n",
    "print(\"Apakah Kata terdaftar Kalima?\",kataYangDiCari,\"in\",kalimat,\"?\",kataYangDiCari in kalimat)"
   ]
  },
  {
   "cell_type": "markdown",
   "id": "45e904a8-fea1-4c79-9774-a6f0bb887c3b",
   "metadata": {},
   "source": [
    "<h1>Operator Identitas</h1>"
   ]
  },
  {
   "cell_type": "code",
   "execution_count": 3,
   "id": "2f5e6e2b-1388-461d-9787-57ddda480ab1",
   "metadata": {},
   "outputs": [
    {
     "name": "stdout",
     "output_type": "stream",
     "text": [
      "Alamat Memori x 140709099743960\n",
      "Alamat Memori y 1631799601616\n",
      "Alamat Memori z 140709099743960\n",
      "Apakah a is b? False\n",
      "Apakah b is a? False\n",
      "Apakah a is not b? True\n",
      "Apakah b is not a? True\n"
     ]
    }
   ],
   "source": [
    "x = 10\n",
    "y = \"10\"\n",
    "z = x\n",
    "\n",
    "print(\"Alamat Memori x\",id(x))\n",
    "print(\"Alamat Memori y\",id(y))\n",
    "print(\"Alamat Memori z\",id(z))\n",
    "\n",
    "a = 100\n",
    "b = \"100\"\n",
    "\n",
    "print(\"Apakah a is b?\",a is b)\n",
    "print(\"Apakah b is a?\",b is a)\n",
    "print(\"Apakah a is not b?\",a is not b)\n",
    "print(\"Apakah b is not a?\",b is not a)"
   ]
  },
  {
   "cell_type": "markdown",
   "id": "b39eb982-a130-494d-ac64-32168cdc0da5",
   "metadata": {},
   "source": [
    "<h1>Operator Ternary</h1>"
   ]
  },
  {
   "cell_type": "code",
   "execution_count": 24,
   "id": "5c674a1e-2b44-4329-9a92-fabe3604d548",
   "metadata": {},
   "outputs": [
    {
     "name": "stdin",
     "output_type": "stream",
     "text": [
      "Masukkan Angka:  70\n"
     ]
    },
    {
     "name": "stdout",
     "output_type": "stream",
     "text": [
      "Tidak lebih besar dari 100\n"
     ]
    },
    {
     "name": "stdin",
     "output_type": "stream",
     "text": [
      "Masukkan Nilai:  70\n"
     ]
    },
    {
     "name": "stdout",
     "output_type": "stream",
     "text": [
      "Lulus\n"
     ]
    }
   ],
   "source": [
    "angka = int(input(\"Masukkan Angka: \"))\n",
    "hasil = \"Lebih besar dari 100\" if angka > 100 else \"Tidak lebih besar dari 100\"\n",
    "hasil2 = \"Adalah Bilangan itu Sendiri\" if angka == 100 else \"\"\n",
    "print(hasil)\n",
    "if hasil2: print(hasil2)\n",
    "\n",
    "\n",
    "nilai = int(input(\"Masukkan Nilai: \"))\n",
    "hasil = \"Lulus\" if nilai >= 70 else \"Tidak Lulus\"\n",
    "print(hasil)\n"
   ]
  },
  {
   "cell_type": "code",
   "execution_count": null,
   "id": "35f41496-631e-463a-a7f8-a7b2f590d673",
   "metadata": {},
   "outputs": [],
   "source": []
  }
 ],
 "metadata": {
  "kernelspec": {
   "display_name": "Python [conda env:base] *",
   "language": "python",
   "name": "conda-base-py"
  },
  "language_info": {
   "codemirror_mode": {
    "name": "ipython",
    "version": 3
   },
   "file_extension": ".py",
   "mimetype": "text/x-python",
   "name": "python",
   "nbconvert_exporter": "python",
   "pygments_lexer": "ipython3",
   "version": "3.12.7"
  }
 },
 "nbformat": 4,
 "nbformat_minor": 5
}
